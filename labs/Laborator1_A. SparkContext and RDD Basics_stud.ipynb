{
 "cells": [
  {
   "cell_type": "markdown",
   "metadata": {
    "id": "VNfPHjwSH3aE"
   },
   "source": [
    "# SparkContext și introducere în RDD\n",
    "\n",
    "### Conținutul acestui laborator este adaptat și urmărește cartea https://runawayhorse001.github.io/LearningApacheSpark/pyspark.pdf\n"
   ]
  },
  {
   "cell_type": "markdown",
   "metadata": {
    "id": "-GSZZCMYH3aJ"
   },
   "source": [
    "### Importul pachetului numpy si a clasei SparkContext:\n"
   ]
  },
  {
   "cell_type": "code",
   "execution_count": null,
   "metadata": {
    "id": "Q2BS_Fs9H3aJ"
   },
   "outputs": [],
   "source": [
    "from pyspark import SparkContext\n",
    "import numpy as np"
   ]
  },
  {
   "cell_type": "markdown",
   "metadata": {
    "id": "eGLsFB5xH3aK"
   },
   "source": [
    "## Inițializarea unui `SparkContext` (abstractizarea principală către cluster)\n",
    "\n",
    "**Observație: Valoarea '4' din argument reprezintă faptul că vor fi utilizate 4 core-uri pentru acest obiect SparkContext.**\n"
   ]
  },
  {
   "cell_type": "code",
   "execution_count": null,
   "metadata": {
    "id": "lw1yn02pH3aL"
   },
   "outputs": [],
   "source": [
    "sc = SparkContext(master=\"local[4]\")"
   ]
  },
  {
   "cell_type": "code",
   "execution_count": null,
   "metadata": {
    "id": "uP0i2g9YH3aL"
   },
   "outputs": [],
   "source": [
    "print(sc)"
   ]
  },
  {
   "cell_type": "markdown",
   "metadata": {
    "id": "k7scoM4sH3aM"
   },
   "source": [
    "### Generarea unei liste de numere întregi aleatoare:\n"
   ]
  },
  {
   "cell_type": "code",
   "execution_count": null,
   "metadata": {
    "id": "oNW4-yHaH3aM"
   },
   "outputs": [],
   "source": [
    "lst = np.random.randint(0, 10, 20)"
   ]
  },
  {
   "cell_type": "code",
   "execution_count": null,
   "metadata": {
    "id": "idKDKjI0H3aN"
   },
   "outputs": [],
   "source": [
    "print(lst)"
   ]
  },
  {
   "cell_type": "markdown",
   "metadata": {
    "id": "Q7-1RESQH3aO"
   },
   "source": [
    "### Paralelizarea listei - aceasta este operația principală către calculul distribuit:\n"
   ]
  },
  {
   "cell_type": "code",
   "execution_count": null,
   "metadata": {
    "id": "JK2dkJPoH3aO"
   },
   "outputs": [],
   "source": [
    "A = sc.parallelize(lst)"
   ]
  },
  {
   "cell_type": "markdown",
   "metadata": {
    "id": "2zGDl4oEH3aO"
   },
   "source": [
    "### Prin comanda precedentă este creat un RDD.\n",
    "\n",
    "![](https://i.stack.imgur.com/cwrMN.png)\n",
    "\n",
    "Spark are ca element central conceptul de Resilient Distributed Dataset (RDD). Acesta reprezintă o **colecție (rezistentă la defecte) de elemente asupra cărora se poate opera în paralel**.\n",
    "\n",
    "SparkContext gestionează datele distribuite în nodurile _worker_ prin manager-ul de cluster.\n",
    "\n",
    "Exista două modalități de a crea RDD-uri:\n",
    "\n",
    "- paralelizând o colecție existentă în program (_driver program_) sau\n",
    "- referind un set de date (_dataset_) dintr-un sistem de stocare extern, precum un sistem de fișiere partajat, HDFS, HBase, sau orice sursă de date ce oferă date în formatul InputFormat din Hadoop.\n",
    "\n",
    "Crearea RDD-ului anterior a fost facută prin prima metodă.\n"
   ]
  },
  {
   "cell_type": "markdown",
   "metadata": {
    "id": "DZSP27JdH3aP"
   },
   "source": [
    "### `A` este un obiect pyspark RDD. Nu îi putem accesa elementele direct.\n"
   ]
  },
  {
   "cell_type": "code",
   "execution_count": null,
   "metadata": {
    "id": "t5RuWNQBH3aP"
   },
   "outputs": [],
   "source": [
    "# Afisati tipul de date al lui A"
   ]
  },
  {
   "cell_type": "code",
   "execution_count": null,
   "metadata": {
    "id": "lL4MfUadH3aP"
   },
   "outputs": [],
   "source": [
    "A"
   ]
  },
  {
   "cell_type": "markdown",
   "metadata": {
    "id": "Tei3SUr8H3aQ"
   },
   "source": [
    "### Invers paralelizării - metoda `collect` colectează elementele distribuite și le returnează nodului head. <br><br>Observație: Acest proces este lent, iar din acest motiv nu trebuie utilizat frecvent.\n"
   ]
  },
  {
   "cell_type": "code",
   "execution_count": null,
   "metadata": {
    "id": "6EVXrX3ZH3aQ"
   },
   "outputs": [],
   "source": [
    "A.collect()"
   ]
  },
  {
   "cell_type": "markdown",
   "metadata": {
    "id": "ucFuWfIhH3aQ"
   },
   "source": [
    "### Cum au fost create partițiile? Utilizați metoda `glom`.\n",
    "\n",
    "Metoda glom() transformă fiecare partitie într-o listă de elemente. Prin urmare, se creează un RDD de liste, câte o listă pentru fiecare partiție.\n"
   ]
  },
  {
   "cell_type": "code",
   "execution_count": null,
   "metadata": {
    "id": "jG9dTNqxH3aR"
   },
   "outputs": [],
   "source": [
    "A.glom().collect()"
   ]
  },
  {
   "cell_type": "markdown",
   "metadata": {
    "id": "D3HelhmSH3aR"
   },
   "source": [
    "### Opriți contextul și reinitializați-l cu 2 core-uri. Ce se întâmplă când repetăm procesul de mai sus?\n"
   ]
  },
  {
   "cell_type": "code",
   "execution_count": null,
   "metadata": {
    "id": "CC9MfPJ9H3aR"
   },
   "outputs": [],
   "source": [
    "# oprire context"
   ]
  },
  {
   "cell_type": "code",
   "execution_count": null,
   "metadata": {
    "id": "PY4RQVUWH3aR"
   },
   "outputs": [],
   "source": []
  },
  {
   "cell_type": "code",
   "execution_count": null,
   "metadata": {
    "id": "Dz6BZ8WMH3aS"
   },
   "outputs": [],
   "source": []
  },
  {
   "cell_type": "code",
   "execution_count": null,
   "metadata": {
    "id": "2pPudWKxH3aS"
   },
   "outputs": [],
   "source": []
  },
  {
   "cell_type": "markdown",
   "metadata": {
    "id": "1ydFPhl6H3aS"
   },
   "source": [
    "**RDD-ul este distribuit acum în 2 părți, în locul celor 4 anterioare.**\n",
    "\n",
    "Recreați contextul cu 4 core-uri.\n"
   ]
  },
  {
   "cell_type": "code",
   "execution_count": null,
   "metadata": {
    "id": "zYMhEECoH3aT"
   },
   "outputs": [],
   "source": []
  },
  {
   "cell_type": "code",
   "execution_count": null,
   "metadata": {
    "id": "6PQzCk6vH3aT"
   },
   "outputs": [],
   "source": []
  },
  {
   "cell_type": "code",
   "execution_count": null,
   "metadata": {
    "id": "LXrwgPtmH3aT"
   },
   "outputs": [],
   "source": []
  },
  {
   "cell_type": "markdown",
   "metadata": {
    "id": "mpj_ssOHH3aT"
   },
   "source": [
    "## Operații de bază\n",
    "\n",
    "### Numărarea elementelor (`Count`):\n"
   ]
  },
  {
   "cell_type": "code",
   "execution_count": null,
   "metadata": {
    "id": "z_Gfp_S1H3aU"
   },
   "outputs": [],
   "source": [
    "A.count()"
   ]
  },
  {
   "cell_type": "markdown",
   "metadata": {
    "id": "O3Q2QXe3H3aU"
   },
   "source": [
    "### Obținerea primului element (`first`) și a primelor n elemente (`take`):\n"
   ]
  },
  {
   "cell_type": "code",
   "execution_count": null,
   "metadata": {
    "id": "TZTjQI69H3aU"
   },
   "outputs": [],
   "source": [
    "A.first()"
   ]
  },
  {
   "cell_type": "code",
   "execution_count": null,
   "metadata": {
    "id": "IqrrPMs0H3aU"
   },
   "outputs": [],
   "source": [
    "A.take(4)"
   ]
  },
  {
   "cell_type": "markdown",
   "metadata": {
    "id": "qPlEr_DuH3aV"
   },
   "source": [
    "### Ștergerea duplicatelor: Obținerea unui alt RDD cu elemente distincte (`distinct`)\n",
    "\n",
    "Metoda `RDD.distinct()` returnează un nou dataset ce conține elementele distincte ale setului de date sursă.\n",
    "\n",
    "**Observație**: Această operație necesită o amestecare (**shuffle**) pentru a detecta duplicarea elementelor în toate partițiile. **Prin urmare, operația este lentă.**\n"
   ]
  },
  {
   "cell_type": "code",
   "execution_count": null,
   "metadata": {
    "id": "TAKvWW1oH3aV"
   },
   "outputs": [],
   "source": [
    "A_distinct = A.distinct()"
   ]
  },
  {
   "cell_type": "code",
   "execution_count": null,
   "metadata": {
    "id": "10PR_uI-H3aV"
   },
   "outputs": [],
   "source": [
    "A_distinct.collect()"
   ]
  },
  {
   "cell_type": "markdown",
   "metadata": {
    "id": "P7zhzUzoH3aV"
   },
   "source": [
    "### Însumarea tuturor elementelor cu ajutorul metodei `reduce`\n",
    "\n",
    "Lambda functii: Python permite crearea de funcții anonime (funcții definite fără nume), cu ajutorul construcției \"lambda\".\n",
    "Forma generală a unei lambda funcții este: <br>\n",
    "`lambda <args>: <expr>`\n",
    "<br>\n",
    "Lambda funcții condiționale: <br>\n",
    "`lambda <args>: <expr_1> if <conditie> else <expr_2>`\n",
    "<br>\n",
    "\n",
    "Analizați documentația oficială pentru metodele RDD (în particular, reduce): https://spark.apache.org/docs/latest/api/python/reference/pyspark.html#rdd-apis\n"
   ]
  },
  {
   "cell_type": "code",
   "execution_count": null,
   "metadata": {
    "id": "TOiLnQyCH3aW"
   },
   "outputs": [],
   "source": [
    "A.reduce(lambda x, y: x+y)"
   ]
  },
  {
   "cell_type": "markdown",
   "metadata": {
    "id": "oxGEHTUzH3aW"
   },
   "source": [
    "### Însumarea directă a elementelor cu ajutorul metodei `sum`:\n"
   ]
  },
  {
   "cell_type": "code",
   "execution_count": null,
   "metadata": {
    "id": "tsRcz3HKH3aW"
   },
   "outputs": [],
   "source": [
    "A.sum()"
   ]
  },
  {
   "cell_type": "markdown",
   "metadata": {
    "id": "2mU47AHZH3aW"
   },
   "source": [
    "### Însumarea elementelor cu ajutorul metodei `fold`, care agregă elementele fiecărei partiții, iar apoi rezultatele pentru toate partițiile:\n"
   ]
  },
  {
   "cell_type": "code",
   "execution_count": null,
   "metadata": {
    "id": "6QKs6dRJH3aW"
   },
   "outputs": [],
   "source": [
    "A.fold(0, lambda x, y: x+y)"
   ]
  },
  {
   "cell_type": "markdown",
   "metadata": {
    "id": "36MN18cOH3aX"
   },
   "source": [
    "### Determinarea elementului maxim cu ajutorul metodei `reduce`:\n"
   ]
  },
  {
   "cell_type": "code",
   "execution_count": null,
   "metadata": {
    "id": "L3DFhUnNH3aX"
   },
   "outputs": [],
   "source": [
    "A.reduce(lambda x, y: x if x > y else y)"
   ]
  },
  {
   "cell_type": "markdown",
   "metadata": {
    "id": "vT1_Wi9GH3aX"
   },
   "source": [
    "### Determinarea celui mai lung cuvânt cu ajutorul metodei `reduce`:\n"
   ]
  },
  {
   "cell_type": "code",
   "execution_count": null,
   "metadata": {
    "id": "hyne24weH3aX"
   },
   "outputs": [],
   "source": [
    "words = 'These are some of the best Macintosh computers ever'.split(' ')\n",
    "# paralelizați si obtineti rezultatul cerut aplicand reduce"
   ]
  },
  {
   "cell_type": "markdown",
   "metadata": {
    "id": "s2dQo934H3aX"
   },
   "source": [
    "## Funcții și filtrare în RDD\n",
    "\n",
    "### Metoda `filter` returnează un RDD nou, ce conține elemente care satisfac un predicat dat (lambda expresie)\n"
   ]
  },
  {
   "cell_type": "code",
   "execution_count": null,
   "metadata": {
    "id": "a99Iqm91H3aX"
   },
   "outputs": [],
   "source": [
    "# Returnează un RDD ale cărui elemente sunt divizible cu 3\n",
    "A.filter(lambda x: x % 3 == 0).collect()"
   ]
  },
  {
   "cell_type": "markdown",
   "metadata": {
    "id": "ML8IE2QEH3aY"
   },
   "source": [
    "### Pe lângă Lambda funcții, putem crea funcții Python obișnuite pe care le vom utiliza ca argument al metodei `reduce`\n"
   ]
  },
  {
   "cell_type": "code",
   "execution_count": null,
   "metadata": {
    "id": "vPQWEVspH3aY"
   },
   "outputs": [],
   "source": [
    "def largerThan(x, y):\n",
    "    \"\"\"\n",
    "    Returns the last word among the longest words in a list\n",
    "    \"\"\"\n",
    "    if len(x) > len(y):\n",
    "        return x\n",
    "    elif len(y) > len(x):\n",
    "        return y\n",
    "    else:\n",
    "        if x < y:\n",
    "            return x\n",
    "        else:\n",
    "            return y"
   ]
  },
  {
   "cell_type": "code",
   "execution_count": null,
   "metadata": {
    "id": "iQ468ypoH3aY"
   },
   "outputs": [],
   "source": [
    "wordRDD.reduce(largerThan)"
   ]
  },
  {
   "cell_type": "markdown",
   "metadata": {
    "id": "fcY9P1uSH3aY"
   },
   "source": [
    "## Eșantionarea (Sampling) a unui RDD\n",
    "\n",
    "- De obicei, dimensiunea unui RDD este foarte mare.\n",
    "- **Unele agregări, precum mediile aritmetice, pot fi aproximate eficient utilizând doar un eșantion de date (un sample).** Acest lucru este benefic atunci când se lucrează cu seturi de date de dimensiuni foarte mari, în care un sample poate fi relevant din punct de vedere al pattern-ului și al statisticilor descriptive ale datelor.\n",
    "- Eșantionarea (sampling-ul) se realizează în paralel și necesită o capacitate de calcul limitată.\n",
    "\n",
    "Metoda `RDD.sample(withReplacement,p)` generează un sample din elementele RDD-ului. Semnificația argumentelor metodei este următoarea:\n",
    "\n",
    "- `withReplacement` este un flag boolean ce indică dacă un element din RDD poate fi eșantionat mai mult decât o singură dată.\n",
    "- `p` reprezintă probabilitatea de acceptare a fiecărui element din sample. De remarcat că, deoarece eșantionarea se realizează independent în cadrul fiecărei partiții, numărul de elemente din eșantion se schimbă de la un eșantion la altul.\n"
   ]
  },
  {
   "cell_type": "code",
   "execution_count": null,
   "metadata": {
    "id": "MAtX2SNOH3aY"
   },
   "outputs": [],
   "source": [
    "# Obțineți un sample a cărui dimensiune așteptată să fie m\n",
    "# Observați că dimensiunea eșantionului este diferită de la o execuție la alta\n",
    "m = 5\n",
    "n = 20\n",
    "print('sample1=', A.sample(False, m/n).collect())\n",
    "print('sample2=', A.sample(False, m/n).collect())"
   ]
  },
  {
   "cell_type": "markdown",
   "metadata": {
    "id": "dePRGNRCH3aY"
   },
   "source": [
    "### Observații\n",
    "\n",
    "- La fiecare execuție a celulei precedente, obținem o estimare diferită.\n",
    "- Acuratețea estimării este determinată de dimensiunea eșantionului $n*p$. În acest caz, probabilitatea este $p=\\frac{m}{n}$.\n",
    "- Modificați valoarea lui $p$ și observați ce se obține.\n"
   ]
  },
  {
   "cell_type": "markdown",
   "metadata": {
    "id": "dfWfADtDH3aZ"
   },
   "source": [
    "## Statistici de bază\n"
   ]
  },
  {
   "cell_type": "code",
   "execution_count": null,
   "metadata": {
    "id": "GKR1I0k9H3aZ"
   },
   "outputs": [],
   "source": [
    "print(\"Maximum: \", A.max())\n",
    "print(\"Minimum: \", A.min())\n",
    "print(\"Mean (average): \", A.mean())\n",
    "print(\"Standard deviation: \", A.stdev())"
   ]
  },
  {
   "cell_type": "code",
   "execution_count": null,
   "metadata": {
    "id": "wVv4eIDNH3aZ"
   },
   "outputs": [],
   "source": [
    "A.stats()"
   ]
  },
  {
   "cell_type": "markdown",
   "metadata": {
    "id": "RG6P-EkSH3aZ"
   },
   "source": [
    "## Mapping\n",
    "\n",
    "### Operația `map` cu functie _lambda_:\n"
   ]
  },
  {
   "cell_type": "code",
   "execution_count": null,
   "metadata": {
    "id": "Th8GbDBWH3aZ"
   },
   "outputs": [],
   "source": [
    "B = A.map(lambda x: x*x)"
   ]
  },
  {
   "cell_type": "code",
   "execution_count": null,
   "metadata": {
    "id": "y4fjsZ3wH3aa"
   },
   "outputs": [],
   "source": [
    "B.collect()"
   ]
  },
  {
   "cell_type": "markdown",
   "metadata": {
    "id": "4ECMfx7mH3aa"
   },
   "source": [
    "### Operația `map` cu funcție Python:\n"
   ]
  },
  {
   "cell_type": "code",
   "execution_count": null,
   "metadata": {
    "id": "MMujO-GXH3aa"
   },
   "outputs": [],
   "source": [
    "def square_if_odd(x):\n",
    "    if x % 2 == 1:\n",
    "        return x*x\n",
    "    else:\n",
    "        return x"
   ]
  },
  {
   "cell_type": "code",
   "execution_count": null,
   "metadata": {
    "id": "lt72qaEdH3aa"
   },
   "outputs": [],
   "source": [
    "A.map(square_if_odd).collect()"
   ]
  },
  {
   "cell_type": "markdown",
   "metadata": {
    "id": "gsArUoUAH3aa"
   },
   "source": [
    "### Metoda `flatmap` returnează un RDD nou ce rezultă aplicând o funcție tuturor elementelor RDD-ului inițial și apoi aplatizând rezultatele.\n"
   ]
  },
  {
   "cell_type": "code",
   "execution_count": null,
   "metadata": {
    "id": "r2KAmQvzH3aa"
   },
   "outputs": [],
   "source": [
    "A.flatMap(lambda x: (x, x*x)).collect()"
   ]
  },
  {
   "cell_type": "markdown",
   "metadata": {
    "id": "0FSsxn-yH3ab"
   },
   "source": [
    "## Grupări și _binning_\n",
    "\n",
    "### `groupby` returnează un RDD cu elemente grupate (iterabil) conform cu o operație (funcție) pe grupuri dată.\n"
   ]
  },
  {
   "cell_type": "code",
   "execution_count": null,
   "metadata": {
    "id": "ROmcEaL-H3ab"
   },
   "outputs": [],
   "source": [
    "result = A.groupBy(lambda x: x % 2).collect()\n",
    "sorted([(x, sorted(y)) for (x, y) in result])"
   ]
  },
  {
   "cell_type": "markdown",
   "metadata": {
    "id": "95puRVF_H3ab"
   },
   "source": [
    "### Metoda `histogram` preia o listă de bins/buckets și returnează un tuplu ce conține rezultatul histogramei (binning).\n"
   ]
  },
  {
   "cell_type": "code",
   "execution_count": null,
   "metadata": {
    "id": "fLzWkl-2H3ab"
   },
   "outputs": [],
   "source": [
    "B.histogram([x for x in range(0, 100, 10)])"
   ]
  },
  {
   "cell_type": "markdown",
   "metadata": {
    "id": "o2QnrIOuH3ab"
   },
   "source": [
    "## Operații pe mulțimi\n",
    "\n",
    "### Se vor crea RDD-uri mai mici pentru a ilustra aceste operații.\n"
   ]
  },
  {
   "cell_type": "code",
   "execution_count": null,
   "metadata": {
    "id": "ccmq7dcgH3ac"
   },
   "outputs": [],
   "source": [
    "lst1 = np.random.randint(0, 10, 3)\n",
    "C = sc.parallelize(lst1)\n",
    "lst2 = np.random.randint(10, 20, 3)\n",
    "D = sc.parallelize(lst2)\n",
    "print(\"C:\", C.collect())\n",
    "print(\"D:\", D.collect())"
   ]
  },
  {
   "cell_type": "markdown",
   "metadata": {
    "id": "01CmBvQAH3ac"
   },
   "source": [
    "### Operatia `C+D` reprezintă reuniunea (similară reuniunii de mulțimi), nu însumarea elementelor de pe aceleasi poziții.\n"
   ]
  },
  {
   "cell_type": "code",
   "execution_count": null,
   "metadata": {
    "id": "79zSlYglH3ac"
   },
   "outputs": [],
   "source": [
    "(C+D).collect()"
   ]
  },
  {
   "cell_type": "markdown",
   "metadata": {
    "id": "NdiGYr1CH3ac"
   },
   "source": [
    "### Metoda `cartesian` determină produsul cartezian (ca tupluri).\n"
   ]
  },
  {
   "cell_type": "code",
   "execution_count": null,
   "metadata": {
    "id": "OkOjUsI9H3ac"
   },
   "outputs": [],
   "source": [
    "C.cartesian(D).collect()"
   ]
  },
  {
   "cell_type": "markdown",
   "metadata": {
    "id": "2W17HwEmH3ac"
   },
   "source": [
    "### Metodele `intersection` și `subtract` returnează un RDD reprezentând intersecția, respectiv diferența de mulțimi.\n"
   ]
  },
  {
   "cell_type": "code",
   "execution_count": null,
   "metadata": {
    "id": "xsCQyR8aH3ad"
   },
   "outputs": [],
   "source": [
    "rdd1 = sc.parallelize([1, 10, 2, 3, 4, 5])\n",
    "rdd2 = sc.parallelize([1, 6, 2, 3, 7, 8])\n",
    "rdd1.intersection(rdd2).collect()"
   ]
  },
  {
   "cell_type": "code",
   "execution_count": null,
   "metadata": {
    "id": "RZ1-dRe3H3ad"
   },
   "outputs": [],
   "source": [
    "rdd1.subtract(rdd2).collect()"
   ]
  },
  {
   "cell_type": "markdown",
   "metadata": {
    "id": "hd9c16G_H3ad"
   },
   "source": [
    "### Opriți `SparkContext`.\n"
   ]
  },
  {
   "cell_type": "code",
   "execution_count": null,
   "metadata": {
    "id": "mmKNHVCNH3ad"
   },
   "outputs": [],
   "source": [
    "sc.stop()"
   ]
  },
  {
   "cell_type": "code",
   "execution_count": null,
   "metadata": {
    "id": "onnel-RVH3ad"
   },
   "outputs": [],
   "source": []
  },
  {
   "cell_type": "code",
   "execution_count": null,
   "metadata": {
    "id": "BYQQQFBVH3ad"
   },
   "outputs": [],
   "source": []
  }
 ],
 "metadata": {
  "colab": {
   "provenance": []
  },
  "kernelspec": {
   "display_name": "Python 3",
   "language": "python",
   "name": "python3"
  },
  "language_info": {
   "codemirror_mode": {
    "name": "ipython",
    "version": 3
   },
   "file_extension": ".py",
   "mimetype": "text/x-python",
   "name": "python",
   "nbconvert_exporter": "python",
   "pygments_lexer": "ipython3",
   "version": "3.8.5"
  }
 },
 "nbformat": 4,
 "nbformat_minor": 0
}
