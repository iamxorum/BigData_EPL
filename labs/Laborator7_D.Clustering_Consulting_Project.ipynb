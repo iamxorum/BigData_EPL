{
 "cells": [
  {
   "cell_type": "markdown",
   "metadata": {},
   "source": [
    "# Clustering - Proiect de consultanță \n",
    "\n",
    "O firmă de tehnologie a fost atacată de hacker-i. Inginerii firmei au reușit să strângă date valoroase despre atacuri, incluzând durata sesiunii, locații, viteza de tastare (wpm - words per minute) etc. Inginerul relatează ce a obținut până acum: metadate ale fiecărei sesiuni prin care hacker-ii s-au conectat la servere. Caracteristicile datelor sunt următoarele:\n",
    "\n",
    "* 'Session_Connection_Time': durata sesiunii (în minute)\n",
    "* 'Bytes Transferred': Numărul de MB transferați în timpul sesiunii\n",
    "* 'Kali_Trace_Used': Indică dacă hacker-ul a utilizat Kali Linux\n",
    "* 'Servers_Corrupted': Numărul de servere corupte în timpul atacului\n",
    "* 'Pages_Corrupted': Numărul de pagini accesate ilegal\n",
    "* 'Location': Locația de la care a provenit atacul (Probabil nu este relevantă, deoarece hacker-ii au folosit VPN-uri)\n",
    "* 'WPM_Typing_Speed': Viteza de tastare estimată, pe baza log-urilor sesiunilor.\n",
    "\n",
    "\n",
    "Firma de tehnologie suspectează 3 potențiali hacker-i care au comis atacul. Sunt siguri de 2 dintre ei, dar nu și de al treilea.\n",
    "Dorim să aflăm dacă cel de-al treilea suspect a fost implicat în aceste atacuri, sau dacă au fost implicați doar cei 2. Probabil nu se va putea spune cu siguranță, dar putem încerca să aplicăm tehnica de clustering ca să aflăm.\n",
    "\n",
    "**O ultimă observație: inginerul știe că hacker-ii schimbă atacurile între ei, aceasta însemnând că ar trebui să aibă cam același număr de atacuri. De exemplu, dacă au fost 100 de atacuri în total, atunci în cazul cu 2 hackeri fiecare ar trebui să fi avut aproximativ 50, iar în cazul cu 3 hackeri  fiecare ar fi avut aproximativ 33. Inginerul crede că acesta este un element cheie pentru a rezolva problema, dar nu știe cum poate distinge datele neetichetate în grupuri de hackeri.**"
   ]
  }
 ],
 "metadata": {
  "anaconda-cloud": {},
  "kernelspec": {
   "display_name": "Python 3",
   "language": "python",
   "name": "python3"
  },
  "language_info": {
   "codemirror_mode": {
    "name": "ipython",
    "version": 3
   },
   "file_extension": ".py",
   "mimetype": "text/x-python",
   "name": "python",
   "nbconvert_exporter": "python",
   "pygments_lexer": "ipython3",
   "version": "3.8.5"
  }
 },
 "nbformat": 4,
 "nbformat_minor": 4
}
