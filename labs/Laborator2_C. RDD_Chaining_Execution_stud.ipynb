{
 "cells": [
  {
   "cell_type": "markdown",
   "metadata": {},
   "source": [
    "## Înlănțuire (_chaining_)\n",
    "Transformările și acțiunile se pot înlănțui (**chain**), obținându-se astfel secvențe/fluxuri de calcul (computation **pipelines**)\n",
    "Presupunem ca vrem sa calculăm suma pătratelor \n",
    "$$ \\sum_{i=1}^n x_i^2 $$\n",
    "unde elementele $x_i$ sunt stocate intr-un RDD."
   ]
  },
  {
   "cell_type": "markdown",
   "metadata": {},
   "source": [
    "### Pornirea unui `SparkContext`"
   ]
  },
  {
   "cell_type": "code",
   "execution_count": 1,
   "metadata": {},
   "outputs": [],
   "source": [
    "#Porniti un context Spark cu 4 core-uri\n"
   ]
  },
  {
   "cell_type": "code",
   "execution_count": 2,
   "metadata": {},
   "outputs": [
    {
     "name": "stdout",
     "output_type": "stream",
     "text": [
      "8, 6, 0, 1, 1, 4, 1, 7, 0, 7, 4, 5, 4, 1, 2, 0, 5, 8, 5, 3, 7, 5, 4, 7, 5, 5, 5, 5, 5, 9, 3, 3, 3, 8, 9, 2, 2, 3, 7, 0, 6, 8, 5, 4, 8, 9, 3, 0, 5, 0, 1, 5, 8, 6, 6, 8, 4, 3, 9, 0, 5, 6, 9, 4, 6, 9, 5, 8, 1, 7, 6, 3, 7, 6, 7, 1, 8, 1, 7, 2, 1, 3, 6, 8, 9, 9, 9, 9, 6, 9, 4, 8, 5, 6, 8, 8, 7, 5, 8, 0, 4, 7, 1, 8, 6, 2, 8, 0, 3, 9, 5, 2, 7, 6, 2, 0, 1, 5, 6, 8, 8, 8, 2, 2, 2, 0, 3, 2, 1, 0, 0, 6, 7, 1, 4, 3, 2, 9, 4, 6, 1, 2, 1, 3, 7, 1, 4, 3, 9, 9, 5, 2, 5, 4, 1, 3, 6, 0, 2, 5, 0, 1, 0, 1, 6, 3, 8, 6, 8, 4, 6, 1, 2, 3, 3, 0, 4, 5, 6, 9, 3, 1, 0, 7, 3, 0, 0, 3, 0, 1, 0, 5, 2, 1, 5, 8, 6, 7, 8, 2, 8, 0, 3, 3, 7, 7, 1, 7, 0, 3, 3, 7, 7, 9, 4, 1, 8, 7, 6, 5, 9, 2, 5, 0, 3, 0, 3, 5, 1, 1, 1, 3, 8, 5, 2, 8, 1, 7, 4, 2, 5, 6, 7, 4, 5, 7, 3, 8, 7, 6, 1, 4, 7, 3, 2, 7, 1, 0, 9, 7, 9, 9, 2, 8, 0, 4, 4, 0, 2, 9, 8, 8, 6, 3, 2, 1, 1, 8, 4, 4, 6, 5, 5, 1, 6, 5, 0, 8, 7, 5, 5, 3, 2, 7, 0, 3, 7, 2, 1, 6, 6, 3, 5, 0, 0, 7, 5, 4, 6, 2, 8, 8, 8, 0, 7, 7, 6, 4, 9, 1, 2, 8, 5, 4, 6, 3, 6, 0, 8, 0, 3, 3, 6, 1, 1, 5, 2, 9, 8, 8, 8, 4, 9, 4, 9, 2, 0, 6, 6, 4, 0, 1, 6, 7, 1, 4, 2, 2, 3, 2, 2, 8, 9, 6, 9, 6, 0, 1, 4, 7, 2, 4, 9, 2, 5, 1, 6, 4, 9, 7, 8, 8, 9, 3, 1, 8, 4, 9, 2, 1, 3, 0, 8, 8, 7, 1, 6, 5, 8, 9, 8, 6, 6, 3, 4, 9, 5, 0, 7, 4, 7, 8, 8, 7, 7, 4, 1, 6, 9, 2, 7, 7, 0, 2, 4, 2, 1, 9, 5, 5, 9, 9, 9, 7, 1, 2, 7, 0, 8, 5, 6, 2, 2, 1, 4, 4, 6, 2, 2, 6, 3, 5, 1, 6, 9, 4, 4, 7, 5, 4, 0, 7, 9, 4, 8, 3, 3, 3, 9, 8, 5, 8, 4, 9, 6, 4, 0, 2, 0, 7, 0, 8, 0, 8, 5, 8, 2, 0, 9, 1, 4, 3, 3, 0, 9, 8, 8, 7, 8, 9, 7, 4, 9, 3, 8, 6, 1, 5, 2, 4, 7, 4, 3, 6, 4, 7, 0, 6, 3, 6, 2, 7, 3, 0, 2, 3, 2, 5, 5, 9, 7, 3, 9, 2, 4, 6, 0, 3, 5, 8, 1, 5, 1, 4, 3, 7, 3, 7, 4, 4, 3, 1, 6, 3, 1, 3, 3, 4, 4, 4, 0, 7, 4, 2, 1, 6, 6, 0, 0, 0, 7, 0, 6, 8, 1, 9, 5, 3, 1, 7, 9, 2, 3, 7, 4, 7, 0, 1, 8, 9, 0, 9, 9, 2, 7, 8, 4, 9, 1, 0, 3, 5, 2, 3, 9, 2, 0, 1, 7, 6, 8, 1, 3, 8, 3, 0, 2, 6, 3, 0, 0, 3, 5, 8, 1, 5, 2, 5, 0, 6, 5, 2, 9, 1, 6, 9, 7, 3, 6, 1, 2, 1, 3, 2, 4, 2, 3, 4, 6, 2, 5, 8, 4, 5, 2, 9, 6, 1, 4, 1, 0, 0, 4, 6, 7, 2, 3, 3, 8, 3, 1, 4, 9, 8, 3, 0, 6, 3, 6, 7, 5, 7, 0, 5, 7, 7, 4, 3, 4, 7, 0, 7, 7, 2, 3, 2, 7, 7, 5, 1, 7, 5, 7, 1, 9, 1, 5, 6, 0, 2, 3, 2, 5, 9, 4, 9, 6, 1, 0, 3, 8, 9, 5, 9, 2, 3, 5, 1, 7, 7, 8, 1, 7, 7, 2, 3, 0, 0, 9, 4, 3, 7, 5, 3, 4, 2, 9, 7, 5, 7, 9, 6, 5, 5, 2, 9, 0, 8, 0, 4, 7, 5, 2, 0, 1, 0, 6, 1, 8, 5, 4, 5, 6, 3, 8, 1, 7, 7, 3, 4, 6, 5, 9, 4, 7, 7, 6, 6, 6, 1, 0, 7, 9, 1, 5, 8, 9, 6, 3, 5, 2, 5, 7, 7, 8, 9, 0, 4, 3, 7, 9, 6, 6, 6, 6, 5, 8, 6, 3, 0, 0, 0, 3, 6, 8, 0, 7, 5, 9, 8, 0, 5, 2, 9, 0, 0, 9, 4, 5, 7, 4, 1, 9, 4, 8, 7, 1, 2, 8, 4, 2, 1, 3, 3, 5, 2, 0, 5, 0, 2, 3, 4, 6, 4, 4, 3, 5, 4, 5, 5, 6, 2, 6, 6, 7, 3, 6, 2, 8, 4, 3, 7, 5, 2, 8, 6, 3, 7, 8, 0, 4, 0, 3, 1, 2, 1, 3, 7, 8, 3, 8, 3, 6, 8, 3, 4, 9, 5, 6, 6, 0, 4, 5, 7, 5, 1, 0, 2, 2, 8, 9, 4, 7, 8, 6, 6, 2, 6, 5, 0, 8, 8, 6, 2, 3, 9, 2, 7, 9, 0, 4, 9, 6, 2, 3, 7, 9, 8, 8, 3, 3, 5, 9, 6, 2, 1, 9, 0, 5, 8, 8, 4, 7, 5, 1, 3, 0, 1, 9, 4, 8, 1, 9, 8, 3, 0, 5, 0, 9, 4, 8, 8, 0, 7, 6, 9, 8, 0, 5, 3, 3, 4, 2, 8, 6, 7, 9, 9, 7, 7, "
     ]
    }
   ],
   "source": [
    "B=sc.parallelize(np.random.randint(0,10,size=1000))\n",
    "lst = B.collect()\n",
    "for i in lst: \n",
    "    print(i,end=', ')"
   ]
  },
  {
   "cell_type": "markdown",
   "metadata": {},
   "source": [
    "### Sintaxa secvențială pentru înlănțuire\n",
    "Efectuăm o operație de atribuire după fiecare calcul"
   ]
  },
  {
   "cell_type": "code",
   "execution_count": 3,
   "metadata": {},
   "outputs": [
    {
     "name": "stdout",
     "output_type": "stream",
     "text": [
      "Wall time: 2.48 s\n"
     ]
    }
   ],
   "source": [
    "%%time\n",
    "Squares=B.map(lambda x:x*x)\n",
    "summation = Squares.reduce(lambda x,y:x+y)"
   ]
  },
  {
   "cell_type": "code",
   "execution_count": 4,
   "metadata": {},
   "outputs": [
    {
     "name": "stdout",
     "output_type": "stream",
     "text": [
      "28647\n"
     ]
    }
   ],
   "source": [
    "print(summation)"
   ]
  },
  {
   "cell_type": "markdown",
   "metadata": {},
   "source": [
    "### Sintaxa în cascadă pentru înlănțuire\n",
    "Combinarea calculelor într-o singura comandă în cascadă"
   ]
  },
  {
   "cell_type": "code",
   "execution_count": 5,
   "metadata": {},
   "outputs": [
    {
     "name": "stdout",
     "output_type": "stream",
     "text": [
      "Wall time: 2.38 s\n"
     ]
    },
    {
     "data": {
      "text/plain": [
       "28647"
      ]
     },
     "execution_count": 5,
     "metadata": {},
     "output_type": "execute_result"
    }
   ],
   "source": [
    "%%time\n",
    "B.map(lambda x:x*x).reduce(lambda x,y:x+y)"
   ]
  },
  {
   "cell_type": "markdown",
   "metadata": {},
   "source": [
    "### Ambele sintaxe reprezintă același lucru\n",
    "Singurele diferente sunt următoarele:\n",
    "* În sintaxa secvențială RDD-ul intermediar este denumit (`Squares`)\n",
    "* În sintaxa în cascadă RDD-ul intermediar este *anonim*\n",
    "\n",
    "Execuția este identică.\n",
    "\n",
    "### Execuția secvențială\n",
    "Modalitatea standard prin care sunt executate operațiile _map_ și _reduce_ este:\n",
    "* se efectuează operația _map_\n",
    "* RDD-ul rezultat este stocat în memorie\n",
    "* se efectuează operația _reduce_\n",
    "\n",
    "### Dezavantajele execuției secvențiale\n",
    "\n",
    "1. Rezultatul intermediar (`Squares`) necesită spațiu de memorie.\n",
    "2. Două parcurgeri ale memoriei (pentru `B`, apoi pentru `Squares`) - dublează numărul de eșecuri de regăsire a informației în _cache_ (_cache-misses_).\n",
    "\n",
    "### Execuția de tip _pipeline_\n",
    "Întregul calcul este efectuat printr-o singură parcurgere. Pentru fiecare element al lui **`B`**:\n",
    "1. Se calculează pătratul elementului\n",
    "2. Se transmite această valoare ca input al operației `reduce`.\n",
    "\n",
    "### Avantajele execuției înlănțuite (_pipelined_)\n",
    "\n",
    "1. Este necesară mai puțină memorie deoarece rezultatul intermediar nu este stocat.\n",
    "2. Este mai rapida deoarece are loc o singură parcurgere a RDD-ului de intrare."
   ]
  },
  {
   "cell_type": "code",
   "execution_count": 6,
   "metadata": {},
   "outputs": [],
   "source": [
    "sc.stop()"
   ]
  },
  {
   "cell_type": "code",
   "execution_count": null,
   "metadata": {},
   "outputs": [],
   "source": []
  }
 ],
 "metadata": {
  "kernelspec": {
   "display_name": "Python 3",
   "language": "python",
   "name": "python3"
  },
  "language_info": {
   "codemirror_mode": {
    "name": "ipython",
    "version": 3
   },
   "file_extension": ".py",
   "mimetype": "text/x-python",
   "name": "python",
   "nbconvert_exporter": "python",
   "pygments_lexer": "ipython3",
   "version": "3.8.5"
  }
 },
 "nbformat": 4,
 "nbformat_minor": 4
}
