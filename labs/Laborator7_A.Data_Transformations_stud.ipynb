{
 "cells": [
  {
   "cell_type": "markdown",
   "metadata": {},
   "source": [
    "# Transformări de date\n",
    "\n",
    "Datele nu se află întotdeauna într-un format convenabil, prin urmare acestea trebuie procesate. De multe ori, trebuie procesate date non-numerice (nume de clienți, coduri poștale, nume de țări etc.) \n",
    "\n",
    "O parte importantă a lucrului cu date este cea de înțelegere a acestora. Folosind propriile cunoștințe asupra domeniului, se construiește o intuiție a modului în care datele respective trebuie abordate și procesate. Uneori, cel mai bun lucru este ștergerea anumitor date, alteori trebuie realizată o etapă de feature-engineering. În general, se încearcă transformarea datelor într-un format adecvat datelor de intrare pentru algoritmii ML.\n",
    "\n",
    "Spark oferă metode ce permit realizarea acestor transformări: http://spark.apache.org/docs/latest/ml-features.html\n"
   ]
  },
  {
   "cell_type": "code",
   "execution_count": 1,
   "metadata": {},
   "outputs": [],
   "source": [
    "#Import SparkSession\n"
   ]
  },
  {
   "cell_type": "code",
   "execution_count": 2,
   "metadata": {},
   "outputs": [],
   "source": [
    "#Construire sesiune Spark\n"
   ]
  },
  {
   "cell_type": "code",
   "execution_count": 3,
   "metadata": {},
   "outputs": [],
   "source": [
    "#Citirea fisierului fake_customers.csv in DataFrame\n",
    "#df="
   ]
  },
  {
   "cell_type": "code",
   "execution_count": null,
   "metadata": {
    "collapsed": false,
    "jupyter": {
     "outputs_hidden": false
    }
   },
   "outputs": [],
   "source": [
    "#Afișare\n"
   ]
  },
  {
   "cell_type": "markdown",
   "metadata": {},
   "source": [
    "## Caracteristici ale datelor\n",
    "\n",
    "### StringIndexer\n",
    "\n",
    "De multe ori va trebui să convertim informația de tip șir de caractere în informație numerică, ce corespunde caracteristicilor categoriale. Această transformare se realizează cu ușurință cu ajutorul clasei StringIndexer:"
   ]
  },
  {
   "cell_type": "code",
   "execution_count": null,
   "metadata": {
    "collapsed": false,
    "jupyter": {
     "outputs_hidden": false
    }
   },
   "outputs": [],
   "source": [
    "from pyspark.ml.feature import StringIndexer\n",
    "\n",
    "df = spark.createDataFrame(\n",
    "    [(0, \"a\"), (1, \"b\"), (2, \"c\"), (3, \"a\"), (4, \"a\"), (5, \"c\")],\n",
    "    [\"user_id\", \"category\"])\n",
    "\n",
    "indexer = StringIndexer(inputCol=\"category\", outputCol=\"categoryIndex\")\n",
    "indexed = indexer.fit(df).transform(df)\n",
    "indexed.show()"
   ]
  },
  {
   "cell_type": "markdown",
   "metadata": {},
   "source": [
    "### VectorAssembler\n",
    "\n",
    "VectorAssembler este un transformator ce combină o listă dată de coloane în cadrul unui singur vector coloană. Acesta este util pentru combinarea caracteristicilor brute și a celor generate de către diferiți transformatori într-un singur vector de caracteristici, cu scopul de a antrena modele ML (regresie logistică, arbori de decizie etc.)\n",
    "\n",
    "VectorAssembler acceptă următoarele tipuri ale coloanelor de intrare: toate tipurile numerice, tipul boolean și vector. În fiecare linie, valorile coloanelor de intrare vor fi concatenate într-un vector, în ordinea specificată.\n",
    "\n",
    "Presupunem că avem un DataFrame cu coloanele \"id\", \"hour\", \"mobile\", \"userFeatures\" și \"clicked\":\n",
    "\n",
    "     id | hour | mobile | userFeatures     | clicked\n",
    "    ----|------|--------|------------------|---------\n",
    "     0  | 18   | 1.0    | [0.0, 10.0, 0.5] | 1.0\n",
    "     \n",
    "userFeatures este un vector coloană ce conține 3 caracteristici ale unui utilizator. Dorim să combinăm \"hour\", \"mobile\" și \"userFeatures\" în cadrul unui singur vector de caracteristici, denumit \"features\", pe care să îl folosim pentru a realiza o predicție asupra coloanei \"clicked\". Pentru aceasta, specificăm coloanele de intrare ale obiectului VectorAssembler ca fiind \"hour\", \"mobile\", \"userFeatures\", iar coloana de ieșire \"features\". După această transformare, obținem următorul DataFrame:\n",
    "\n",
    "     id | hour | mobile | userFeatures     | clicked | features\n",
    "    ----|------|--------|------------------|---------|-----------------------------\n",
    "     0  | 18   | 1.0    | [0.0, 10.0, 0.5] | 1.0     | [18.0, 1.0, 0.0, 10.0, 0.5]"
   ]
  },
  {
   "cell_type": "code",
   "execution_count": null,
   "metadata": {
    "collapsed": false,
    "jupyter": {
     "outputs_hidden": false
    }
   },
   "outputs": [],
   "source": [
    "#Testati exemplul de mai sus\n",
    "#Import Vectors, VectorAssembler\n",
    "from pyspark.ml.linalg import Vectors\n",
    "from pyspark.ml.feature import VectorAssembler\n",
    "\n",
    "#Creati DataFrame-ul cu o singura linie de mai sus\n",
    "dataset = spark.createDataFrame(\n",
    "    [(0, 18, 1.0, Vectors.dense([0.0, 10.0, 0.5]), 1.0)],\n",
    "    [\"id\", \"hour\", \"mobile\", \"userFeatures\", \"clicked\"])\n",
    "dataset.show()"
   ]
  },
  {
   "cell_type": "code",
   "execution_count": null,
   "metadata": {
    "collapsed": false,
    "jupyter": {
     "outputs_hidden": false
    }
   },
   "outputs": [],
   "source": [
    "# Creați obiectul VectorAssembler\n",
    "#assembler = \n",
    "\n",
    "#Transformați datele, aplicând acest asamblor\n",
    "#output = \n",
    "\n",
    "print(\"Assembled columns 'hour', 'mobile', 'userFeatures' to vector column 'features'\")\n",
    "\n",
    "#Afișați coloanele features și clicked, fără trunchere\n"
   ]
  },
  {
   "cell_type": "markdown",
   "metadata": {},
   "source": [
    "Celelalte transformări au fost prezentate parțial la curs. Pentru detalii asupra tuturor tipurilor de transformări se va consulta documentația. "
   ]
  },
  {
   "cell_type": "code",
   "execution_count": null,
   "metadata": {
    "collapsed": true,
    "jupyter": {
     "outputs_hidden": true
    }
   },
   "outputs": [],
   "source": []
  }
 ],
 "metadata": {
  "anaconda-cloud": {},
  "kernelspec": {
   "display_name": "Python 3",
   "language": "python",
   "name": "python3"
  },
  "language_info": {
   "codemirror_mode": {
    "name": "ipython",
    "version": 3
   },
   "file_extension": ".py",
   "mimetype": "text/x-python",
   "name": "python",
   "nbconvert_exporter": "python",
   "pygments_lexer": "ipython3",
   "version": "3.8.5"
  }
 },
 "nbformat": 4,
 "nbformat_minor": 4
}
