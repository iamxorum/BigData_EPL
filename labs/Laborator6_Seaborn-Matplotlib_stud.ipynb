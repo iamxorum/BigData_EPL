{
 "cells": [
  {
   "cell_type": "markdown",
   "metadata": {},
   "source": [
    "# Seaborn și Matplotlib\n",
    "\n",
    "* Matplotlib este un pachet Python specializat în vizualizarea datelor.\n",
    "* Pachetul propune o multitudine de funcții pentru crearea și personalizarea unei mari diversități de grafice 2D și 3D.\n",
    "* Pyplot esre un modul al lui Matplotlib ce reprezintă o intefață concepută și optimizată pentru vizualizările interactive. Din acest motiv, este foarte utilizat în task-urile de Data Science.\n",
    "\n",
    "![](https://itom.bitbucket.io/v1-0-14/docs/_images/matplotlib_intro.png)\n",
    "\n",
    "## Diferite tipuri de grafice\n",
    "* Histograma: `pyplot.hist(x, bins, ...)`\n",
    "* Line plot: `pyplot.plot(x, y, linewidth, …)`\n",
    "* Scatter plot: `pyplot.scatter(x, y, s, c, marker, …)`\n",
    "* Box plot: `pyplot.boxplot(x, notch, sym, …)`\n",
    "* Bar chart: `pyplot.bar(x, height, width, …)`\n",
    "* Pie chart: `pyplot.pie(x, explode, labels, …)`\n",
    "* Polar chart: `pyplot.polar(theta, r, …)`\n",
    "* Image: `pyplot.imshow(X, cmap, norm, …)`"
   ]
  },
  {
   "cell_type": "markdown",
   "metadata": {},
   "source": [
    "### Importul librăriilor: numpy, pandas, matplotlib.pyplot și seaborn"
   ]
  },
  {
   "cell_type": "code",
   "execution_count": null,
   "metadata": {},
   "outputs": [],
   "source": [
    "import matplotlib.pyplot as plt \n",
    "import seaborn as sns\n",
    "import numpy as np\n",
    "import pandas as pd "
   ]
  },
  {
   "cell_type": "markdown",
   "metadata": {},
   "source": [
    "### Reprezentați pe același grafic funcțiile sinus și cosinus între $-\\frac{\\pi}{2}$ și $\\frac{3\\pi}{2}$. Afișați legenda."
   ]
  },
  {
   "cell_type": "code",
   "execution_count": null,
   "metadata": {},
   "outputs": [],
   "source": [
    "x = np.linspace(-np.pi/2, 3*np.pi/2)\n",
    "\n",
    "plt.plot(x, np.sin(x), label='sinus', color='blue', linestyle='--', linewidth=2)\n",
    "plt.plot(x, np.cos(x), label='cosinus', color='red', linestyle='-', linewidth=2)\n",
    "\n",
    "plt.legend()\n",
    "plt.show()"
   ]
  },
  {
   "cell_type": "markdown",
   "metadata": {},
   "source": [
    "### Importați fișierul data_fraud.csv într-un DataFrame (Pandas)"
   ]
  },
  {
   "cell_type": "code",
   "execution_count": null,
   "metadata": {},
   "outputs": [],
   "source": [
    "df=pd.read_csv('./Data/data_fraud.csv')\n",
    "df.head()"
   ]
  },
  {
   "cell_type": "markdown",
   "metadata": {},
   "source": [
    "### Creati un *scatter plot* al valorilor Numar_tranzactii_ultimele_10_ore versus tipul de tranzacție. Colorați punctele după valoarea lui is_fraud.\n",
    "\n",
    "Observație: Trebuie create 2 scatterplot-uri pe aceeași figură (câte un grafic pentru fiecare valoare a lui is_fraud). Se va utiliza o mască booleană pentru condiție și se filtrează setul de date."
   ]
  },
  {
   "cell_type": "code",
   "execution_count": null,
   "metadata": {},
   "outputs": [],
   "source": [
    "mask_fraud = (df.is_fraud == 1)\n",
    "\n",
    "plt.scatter(df.Suma_tranzactie[~mask_fraud], df.Cos_mediu[~mask_fraud], c='indianred', alpha=0.2, label='Fraud')\n",
    "plt.scatter(df.Suma_tranzactie[mask_fraud], df.Cos_mediu[mask_fraud], c='cornflowerblue', alpha=0.4, label='Not Fraud')\n",
    "plt.legend();"
   ]
  },
  {
   "cell_type": "code",
   "execution_count": null,
   "metadata": {},
   "outputs": [],
   "source": [
    "sns.scatterplot(x = 'Suma_tranzactie', y = 'Cos_mediu', data=df, hue='is_fraud')"
   ]
  },
  {
   "cell_type": "markdown",
   "metadata": {},
   "source": [
    "### Trasați histograma variabilei Suma_tranzactie cu un număr de bins = 50"
   ]
  },
  {
   "cell_type": "code",
   "execution_count": null,
   "metadata": {},
   "outputs": [],
   "source": [
    "plt.hist(df['Suma_tranzactie'], bins=50);"
   ]
  },
  {
   "cell_type": "markdown",
   "metadata": {},
   "source": [
    "### Trasați diagrama de tip bar pentru a reprezenta numărul de observații asociat fiecărui tip de tranzacție\n",
    "\n",
    "Observație: Calculați mai întâi numărul de observații pentru fiecare tip de tranzacție."
   ]
  },
  {
   "cell_type": "code",
   "execution_count": null,
   "metadata": {},
   "outputs": [],
   "source": [
    "counts = df.Tip_tranzactie.value_counts()\n",
    "plt.bar(counts.index.astype('str'), counts);"
   ]
  },
  {
   "cell_type": "code",
   "execution_count": null,
   "metadata": {},
   "outputs": [],
   "source": [
    "sns.countplot(x='Tip_tranzactie', data=df)"
   ]
  },
  {
   "cell_type": "markdown",
   "metadata": {},
   "source": [
    "### Reproduceți diagrama de mai sus separând tranzacțiile frauduloase de cele nefrauduloase în cadrul fiecărui tip de tranzacție\n",
    "\n",
    "Observație: Utilizați librăria Seaborn."
   ]
  },
  {
   "cell_type": "code",
   "execution_count": null,
   "metadata": {},
   "outputs": [],
   "source": [
    "sns.countplot(x='Tip_tranzactie',data=df, hue='is_fraud')"
   ]
  },
  {
   "cell_type": "markdown",
   "metadata": {},
   "source": [
    "### Trasați un boxplot pentru variabila 'Suma_tranzactie' raportată la 'is_fraud'\n",
    "\n",
    "Observație: Utilizați librăria Seaborn."
   ]
  },
  {
   "cell_type": "code",
   "execution_count": null,
   "metadata": {},
   "outputs": [],
   "source": [
    "plt.figure(figsize=(12,8))\n",
    "sns.boxplot(x='is_fraud', y='Suma_tranzactie',data=df)"
   ]
  },
  {
   "cell_type": "markdown",
   "metadata": {},
   "source": [
    "### Trasați un boxplot pentru variabila 'Suma_tranzactie' (y-axis) raportată la 'Tip_tranzactie' (x-axis) în funcție de 'is_fraud' (hue)\n",
    "\n",
    "Observație: Utilizați librăria Seaborn."
   ]
  },
  {
   "cell_type": "code",
   "execution_count": null,
   "metadata": {},
   "outputs": [],
   "source": [
    "plt.figure(figsize=(12,8))\n",
    "sns.boxplot(x='Tip_tranzactie',y='Suma_tranzactie',data=df, hue='is_fraud')"
   ]
  },
  {
   "cell_type": "markdown",
   "metadata": {},
   "source": [
    "### Trasați un pairplot pentru setul de date considerat\n",
    "\n",
    "Observație: Utilizați funcția `pairplot()` din librăria Seaborn."
   ]
  },
  {
   "cell_type": "code",
   "execution_count": null,
   "metadata": {},
   "outputs": [],
   "source": [
    "sns.pairplot(df)"
   ]
  }
 ],
 "metadata": {
  "kernelspec": {
   "display_name": "Python 3",
   "language": "python",
   "name": "python3"
  },
  "language_info": {
   "codemirror_mode": {
    "name": "ipython",
    "version": 3
   },
   "file_extension": ".py",
   "mimetype": "text/x-python",
   "name": "python",
   "nbconvert_exporter": "python",
   "pygments_lexer": "ipython3",
   "version": "3.8.5"
  }
 },
 "nbformat": 4,
 "nbformat_minor": 4
}
