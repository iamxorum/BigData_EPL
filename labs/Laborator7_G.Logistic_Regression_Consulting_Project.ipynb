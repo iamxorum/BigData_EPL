{
 "cells": [
  {
   "cell_type": "markdown",
   "metadata": {},
   "source": [
    "# Regresia logistică - proiect de consultanță"
   ]
  },
  {
   "cell_type": "markdown",
   "metadata": {},
   "source": [
    "## Renunțarea clienților la serviciile unei companii (\"customer churn\")\n",
    "\n",
    "O agenție de marketing are mai mulți clienți ce îi folosesc serviciile de producție de publicitate pentru website-uri. Agenția a observat că există un număr de clienți care au încetat sa îi mai folosească serviciile. Agenția atribuie aleator clienților câte un account manager, dar dorește crearea unui model ML pentru predicția clienților ce vor renunța la serviciile sale, astfel încât acestora să le atribuie corect un anumit account manager. \n",
    "\n",
    "Pe baza datelor istorice, să se creeze un algoritm de clasificare ce determină dacă un client a renunțat sau nu. Apoi, compania va testa modelul pe date de intrare viitoare, pentru noi clienți, pentru a putea obține predicția celor ce vor renunța, astfel încât să le atribuie acestora un anumit account manager.\n",
    "\n",
    "Datele se află în fișierul customer_churn.csv, ce conține următoarele coloane:\n",
    "\n",
    "    Name : Numele ultimului contact in companie\n",
    "    Age: Varsta clientului\n",
    "    Total_Purchase: Totalul publicității cumpărate \n",
    "    Account_Manager: Binary 0=Niciun manager, 1= Account manager asignat\n",
    "    Years: Numărul total de ani, în calitate de client\n",
    "    Num_sites: Numărul de website-uri ce utilizează serviciul\n",
    "    Onboard_date: Data la care a intrat in companie ultimul contact\n",
    "    Location: Adresa profesională a clientului\n",
    "    Company: Numele companiei clientului\n",
    "    \n",
    "Odată ce modelul va fi creat și evaluat, acesta va fi testat pe date noi, pe care agenția le-a furnizat în fișierul new_customers.csv (similar unui set reținut din datele primite). Agenția dorește să afle ce clienți vor renunța, cel mai probabil, la serviciile sale, pe baza acestor date (ce încă nu sunt etichetate)."
   ]
  }
 ],
 "metadata": {
  "anaconda-cloud": {},
  "kernelspec": {
   "display_name": "Python 3",
   "language": "python",
   "name": "python3"
  },
  "language_info": {
   "codemirror_mode": {
    "name": "ipython",
    "version": 3
   },
   "file_extension": ".py",
   "mimetype": "text/x-python",
   "name": "python",
   "nbconvert_exporter": "python",
   "pygments_lexer": "ipython3",
   "version": "3.8.5"
  }
 },
 "nbformat": 4,
 "nbformat_minor": 4
}
