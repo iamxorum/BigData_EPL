{
 "cells": [
  {
   "cell_type": "markdown",
   "metadata": {},
   "source": [
    "# Regresie liniară - proiect de consultanță"
   ]
  },
  {
   "cell_type": "markdown",
   "metadata": {},
   "source": [
    "Scopul proiectului este construirea unui model predictiv pentru un constructor de vase de crozieră. Modelul trebuie să estimeze câți membri vor fi necesari în echipajul unei nave.  \n",
    "\n",
    "Structura actuală a datelor este aceasta:\n",
    "\n",
    "    Description: Measurements of ship size, capacity, crew, and age for 158 cruise\n",
    "    ships.\n",
    "\n",
    "\n",
    "    Variables/Columns\n",
    "    Ship Name   \n",
    "    Cruise Line \n",
    "    Age (as of 2013) \n",
    "    Tonnage (1000s of tons) \n",
    "    passengers (100s) \n",
    "    Length (100s of feet) \n",
    "    Cabins  (100s)\n",
    "    Passenger Density \n",
    "    Crew  (100s)  \n",
    "    \n",
    "Datele se găsesc în fișierul csv denumit \"cruise_ship_info.csv\". Se cere crearea unui model de regresie ce va permite predicția numărului de membri ai echipajului necesar pe viitoarele nave.  \n",
    "\n",
    "\n",
    "Problema originală: https://github.com/amrutask/PySpark_MLLib_Project"
   ]
  }
 ],
 "metadata": {
  "anaconda-cloud": {},
  "kernelspec": {
   "display_name": "Python 3",
   "language": "python",
   "name": "python3"
  },
  "language_info": {
   "codemirror_mode": {
    "name": "ipython",
    "version": 3
   },
   "file_extension": ".py",
   "mimetype": "text/x-python",
   "name": "python",
   "nbconvert_exporter": "python",
   "pygments_lexer": "ipython3",
   "version": "3.8.5"
  }
 },
 "nbformat": 4,
 "nbformat_minor": 4
}
